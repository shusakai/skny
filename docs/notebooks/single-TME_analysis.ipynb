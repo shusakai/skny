{
 "cells": [
  {
   "cell_type": "markdown",
   "id": "6c934794-7a6a-4a93-ab0d-4c19446640ac",
   "metadata": {},
   "source": [
    "# Single TME analysis with Xenium data"
   ]
  },
  {
   "cell_type": "markdown",
   "id": "6fa50a40-2fa1-4939-b287-e4bd8990b9d8",
   "metadata": {},
   "source": [
    "## 1. Loading library"
   ]
  },
  {
   "cell_type": "code",
   "execution_count": 54,
   "id": "b17ae826-2c07-445c-ba1c-8242eb7f877a",
   "metadata": {},
   "outputs": [],
   "source": [
    "# import library\n",
    "import skny as sk\n",
    "import stlearn as st\n",
    "import scanpy as sc\n",
    "import matplotlib.pyplot as plt\n",
    "import matplotlib\n",
    "import numpy as np\n",
    "import pandas as pd\n",
    "\n",
    "import warnings\n",
    "warnings.filterwarnings(\"ignore\")"
   ]
  },
  {
   "cell_type": "markdown",
   "id": "f01ff070-fb32-473d-ad6a-f9454e9cc034",
   "metadata": {},
   "source": [
    "Please run the tutorial of \"Annotation of tumor contours and distances using Xenium data.\""
   ]
  },
  {
   "cell_type": "markdown",
   "id": "0c9272c7-50f4-44ab-a7a4-e5cbed305a93",
   "metadata": {},
   "source": [
    "## 2. Reading preprocessed Xenium data"
   ]
  },
  {
   "cell_type": "code",
   "execution_count": 51,
   "id": "05ab4bd3-1c6c-45dc-bfd4-9e58899e647d",
   "metadata": {},
   "outputs": [],
   "source": [
    "# load preprocessed object\n",
    "grid = sc.read_h5ad('example_preprocessed.h5ad')\n",
    "# load table of distance\n",
    "df_shotest = pd.read_table(\"example_distance.txt\", index_col=0)\n",
    "# convert str to pd.interval\n",
    "df_shotest[\"region\"] = pd.cut(\n",
    "    df_shotest.dropna()[\"euclidean\"], \n",
    "    bins=list(range(-15, 16, 3))\n",
    ")\n",
    "# attribute the table to object\n",
    "grid.shortest = df_shotest"
   ]
  },
  {
   "cell_type": "code",
   "execution_count": null,
   "id": "124844f2-73b8-4d2e-bc68-4c98b3f5efb6",
   "metadata": {},
   "outputs": [],
   "source": [
    "grid"
   ]
  },
  {
   "cell_type": "markdown",
   "id": "c6ea67a1-72b0-4d6d-a914-e9cbd91e6c55",
   "metadata": {},
   "source": [
    "## 3. Converting from grid data to single TME data"
   ]
  },
  {
   "cell_type": "code",
   "execution_count": 55,
   "id": "b5ed9d07-844e-4c6a-b552-8e207fccfdce",
   "metadata": {},
   "outputs": [],
   "source": [
    "# convert\n",
    "solid = sk.pp.convert_indivisual_solid(grid)"
   ]
  },
  {
   "cell_type": "code",
   "execution_count": null,
   "id": "1b808ea2-adfe-47d2-8394-066fd2381be5",
   "metadata": {},
   "outputs": [],
   "source": []
  },
  {
   "cell_type": "code",
   "execution_count": null,
   "id": "89bf765b-e995-4419-9249-07497eb85b67",
   "metadata": {},
   "outputs": [],
   "source": []
  },
  {
   "cell_type": "code",
   "execution_count": null,
   "id": "12bc4809-7e88-42bf-8ac0-e60dc771e71a",
   "metadata": {},
   "outputs": [],
   "source": []
  },
  {
   "cell_type": "code",
   "execution_count": 56,
   "id": "f097a8a5-c1dc-4cc7-8c50-e57dc3281c8a",
   "metadata": {},
   "outputs": [],
   "source": [
    "solid.layers[\"counts\"] = solid.X.copy()\n",
    "sc.pp.normalize_total(solid)\n",
    "sc.pp.log1p(solid)\n",
    "sc.pp.pca(solid)\n",
    "sc.pp.neighbors(solid)\n",
    "sc.tl.umap(solid)\n",
    "sc.tl.leiden(solid)"
   ]
  },
  {
   "cell_type": "code",
   "execution_count": 61,
   "id": "fb92185b-f6b3-4a81-aad9-3603686b7802",
   "metadata": {},
   "outputs": [
    {
     "data": {
      "image/png": "[encoded data removed]",
      "text/plain": [
       "<Figure size 400x400 with 2 Axes>"
      ]
     },
     "metadata": {},
     "output_type": "display_data"
    }
   ],
   "source": [
    "solid.obs[\"leiden\"] = solid.obs[\"leiden\"].astype(float)\n",
    "fig, ax = plt.subplots(figsize=(4, 4))\n",
    "cmap = matplotlib.cm.Set1\n",
    "cmap.N = len(solid.obs[\"leiden\"].unique())\n",
    "cmap.N = 9\n",
    "ax = sc.pl.umap(\n",
    "    solid,\n",
    "    color=[\n",
    "        \"leiden\",\n",
    "    ],\n",
    "    wspace=0.4,\n",
    "    ax=ax, \n",
    "    cmap=cmap, )"
   ]
  },
  {
   "cell_type": "code",
   "execution_count": 62,
   "id": "5a8cc112-7350-4366-be69-344cfa6ebb92",
   "metadata": {},
   "outputs": [],
   "source": [
    "df_shotest = solid.shortest\n",
    "\n",
    "df_solid = solid.obs\n",
    "df_solid = df_solid.reset_index(drop=True)\n",
    "\n",
    "df_shotest = pd.merge(df_shotest, df_solid, on=\"solid\", how=\"left\")"
   ]
  },
  {
   "cell_type": "code",
   "execution_count": 63,
   "id": "25cbb8d7-8415-473b-ae94-0ce8f9fe0a26",
   "metadata": {},
   "outputs": [
    {
     "ename": "NameError",
     "evalue": "name 'N_COL' is not defined",
     "output_type": "error",
     "traceback": [
      "\u001b[0;31m---------------------------------------------------------------------------\u001b[0m",
      "\u001b[0;31mNameError\u001b[0m                                 Traceback (most recent call last)",
      "Cell \u001b[0;32mIn[63], line 2\u001b[0m\n\u001b[1;32m      1\u001b[0m \u001b[38;5;66;03m# save figure\u001b[39;00m\n\u001b[0;32m----> 2\u001b[0m fig, ax \u001b[38;5;241m=\u001b[39m plt\u001b[38;5;241m.\u001b[39msubplots(figsize\u001b[38;5;241m=\u001b[39m(\u001b[43mN_COL\u001b[49m, N_ROW), dpi\u001b[38;5;241m=\u001b[39m\u001b[38;5;241m1\u001b[39m, tight_layout\u001b[38;5;241m=\u001b[39m\u001b[38;5;28;01mTrue\u001b[39;00m)\n\u001b[1;32m      4\u001b[0m image \u001b[38;5;241m=\u001b[39m np\u001b[38;5;241m.\u001b[39marray(df_shotest[\u001b[38;5;124m\"\u001b[39m\u001b[38;5;124mleiden\u001b[39m\u001b[38;5;124m\"\u001b[39m]\u001b[38;5;241m.\u001b[39mastype(\u001b[38;5;28mfloat\u001b[39m)\u001b[38;5;241m.\u001b[39mfillna(\u001b[38;5;241m-\u001b[39m\u001b[38;5;241m1\u001b[39m))\u001b[38;5;241m.\u001b[39mreshape(N_ROW, N_COL)\n\u001b[1;32m      5\u001b[0m cmap \u001b[38;5;241m=\u001b[39m matplotlib\u001b[38;5;241m.\u001b[39mcm\u001b[38;5;241m.\u001b[39mSet1\n",
      "\u001b[0;31mNameError\u001b[0m: name 'N_COL' is not defined"
     ]
    }
   ],
   "source": [
    "# save figure\n",
    "fig, ax = plt.subplots(figsize=(N_COL, N_ROW), dpi=1, tight_layout=True)\n",
    "\n",
    "image = np.array(df_shotest[\"leiden\"].astype(float).fillna(-1)).reshape(N_ROW, N_COL)\n",
    "cmap = matplotlib.cm.Set1\n",
    "cmap.set_bad('black',1.)\n",
    "cmap.set_under(color='black') \n",
    "\n",
    "ax.imshow(\n",
    "    image, cmap=cmap,\n",
    "    vmin=0,\n",
    "    vmax=8,\n",
    ")\n",
    "ax.axis('off')\n",
    "#plt.savefig(\"cluster.png\")"
   ]
  },
  {
   "cell_type": "code",
   "execution_count": null,
   "id": "f69646d2-0614-48b6-afd4-b122e752a25e",
   "metadata": {},
   "outputs": [],
   "source": []
  },
  {
   "cell_type": "code",
   "execution_count": null,
   "id": "fd1b573c-d769-42a2-9154-a416301e9403",
   "metadata": {},
   "outputs": [],
   "source": []
  },
  {
   "cell_type": "code",
   "execution_count": null,
   "id": "cec29039-9855-4771-b996-44d4f8d48bda",
   "metadata": {},
   "outputs": [],
   "source": []
  },
  {
   "cell_type": "code",
   "execution_count": null,
   "id": "6002f345-b5b9-4eae-82b1-8aa6ef7b4491",
   "metadata": {},
   "outputs": [],
   "source": []
  }
 ],
 "metadata": {
  "kernelspec": {
   "display_name": "Python 3 (ipykernel)",
   "language": "python",
   "name": "python3"
  },
  "language_info": {
   "codemirror_mode": {
    "name": "ipython",
    "version": 3
   },
   "file_extension": ".py",
   "mimetype": "text/x-python",
   "name": "python",
   "nbconvert_exporter": "python",
   "pygments_lexer": "ipython3",
   "version": "3.8.18"
  }
 },
 "nbformat": 4,
 "nbformat_minor": 5
}
